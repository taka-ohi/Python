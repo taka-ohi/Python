{
 "cells": [
  {
   "cell_type": "code",
   "execution_count": 2,
   "metadata": {
    "collapsed": true
   },
   "outputs": [],
   "source": [
    "# import pandas\n",
    "import pandas as pd"
   ]
  },
  {
   "cell_type": "code",
   "execution_count": 3,
   "metadata": {
    "collapsed": true
   },
   "outputs": [],
   "source": [
    "# サンプル名、所有者、DNA濃度、モル濃度が書かれたExcelファイルをインポート\n",
    "import_file = 'dilution.xlsx'"
   ]
  },
  {
   "cell_type": "code",
   "execution_count": 4,
   "metadata": {},
   "outputs": [],
   "source": [
    "sheet1 = 'Sheet1'"
   ]
  },
  {
   "cell_type": "code",
   "execution_count": 5,
   "metadata": {
    "collapsed": true
   },
   "outputs": [],
   "source": [
    "df_dil = pd.read_excel(import_file, sheet_name = sheet1)"
   ]
  },
  {
   "cell_type": "code",
   "execution_count": 6,
   "metadata": {},
   "outputs": [
    {
     "data": {
      "text/html": [
       "<div>\n",
       "<style>\n",
       "    .dataframe thead tr:only-child th {\n",
       "        text-align: right;\n",
       "    }\n",
       "\n",
       "    .dataframe thead th {\n",
       "        text-align: left;\n",
       "    }\n",
       "\n",
       "    .dataframe tbody tr th {\n",
       "        vertical-align: top;\n",
       "    }\n",
       "</style>\n",
       "<table border=\"1\" class=\"dataframe\">\n",
       "  <thead>\n",
       "    <tr style=\"text-align: right;\">\n",
       "      <th></th>\n",
       "      <th>sample</th>\n",
       "      <th>owner</th>\n",
       "      <th>concentration</th>\n",
       "      <th>molarity</th>\n",
       "    </tr>\n",
       "  </thead>\n",
       "  <tbody>\n",
       "    <tr>\n",
       "      <th>0</th>\n",
       "      <td>M77</td>\n",
       "      <td>Maiko</td>\n",
       "      <td>4694</td>\n",
       "      <td>17.0</td>\n",
       "    </tr>\n",
       "    <tr>\n",
       "      <th>1</th>\n",
       "      <td>M78</td>\n",
       "      <td>Maiko</td>\n",
       "      <td>4138</td>\n",
       "      <td>16.5</td>\n",
       "    </tr>\n",
       "    <tr>\n",
       "      <th>2</th>\n",
       "      <td>M79</td>\n",
       "      <td>Maiko</td>\n",
       "      <td>3896</td>\n",
       "      <td>NaN</td>\n",
       "    </tr>\n",
       "    <tr>\n",
       "      <th>3</th>\n",
       "      <td>M80</td>\n",
       "      <td>Maiko</td>\n",
       "      <td>4241</td>\n",
       "      <td>NaN</td>\n",
       "    </tr>\n",
       "    <tr>\n",
       "      <th>4</th>\n",
       "      <td>M81</td>\n",
       "      <td>Maiko</td>\n",
       "      <td>4458</td>\n",
       "      <td>NaN</td>\n",
       "    </tr>\n",
       "  </tbody>\n",
       "</table>\n",
       "</div>"
      ],
      "text/plain": [
       "  sample  owner  concentration  molarity\n",
       "0    M77  Maiko           4694      17.0\n",
       "1    M78  Maiko           4138      16.5\n",
       "2    M79  Maiko           3896       NaN\n",
       "3    M80  Maiko           4241       NaN\n",
       "4    M81  Maiko           4458       NaN"
      ]
     },
     "execution_count": 6,
     "metadata": {},
     "output_type": "execute_result"
    }
   ],
   "source": [
    "df_dil.head()"
   ]
  },
  {
   "cell_type": "code",
   "execution_count": 11,
   "metadata": {},
   "outputs": [
    {
     "data": {
      "text/html": [
       "<div>\n",
       "<style>\n",
       "    .dataframe thead tr:only-child th {\n",
       "        text-align: right;\n",
       "    }\n",
       "\n",
       "    .dataframe thead th {\n",
       "        text-align: left;\n",
       "    }\n",
       "\n",
       "    .dataframe tbody tr th {\n",
       "        vertical-align: top;\n",
       "    }\n",
       "</style>\n",
       "<table border=\"1\" class=\"dataframe\">\n",
       "  <thead>\n",
       "    <tr style=\"text-align: right;\">\n",
       "      <th></th>\n",
       "      <th>sample</th>\n",
       "      <th>owner</th>\n",
       "      <th>concentration</th>\n",
       "      <th>molarity</th>\n",
       "    </tr>\n",
       "  </thead>\n",
       "  <tbody>\n",
       "    <tr>\n",
       "      <th>0</th>\n",
       "      <td>M77</td>\n",
       "      <td>Maiko</td>\n",
       "      <td>4694</td>\n",
       "      <td>17.0</td>\n",
       "    </tr>\n",
       "    <tr>\n",
       "      <th>1</th>\n",
       "      <td>M78</td>\n",
       "      <td>Maiko</td>\n",
       "      <td>4138</td>\n",
       "      <td>16.5</td>\n",
       "    </tr>\n",
       "    <tr>\n",
       "      <th>5</th>\n",
       "      <td>M82</td>\n",
       "      <td>Maiko</td>\n",
       "      <td>12753</td>\n",
       "      <td>43.2</td>\n",
       "    </tr>\n",
       "    <tr>\n",
       "      <th>9</th>\n",
       "      <td>M86</td>\n",
       "      <td>Maiko</td>\n",
       "      <td>11715</td>\n",
       "      <td>33.8</td>\n",
       "    </tr>\n",
       "    <tr>\n",
       "      <th>13</th>\n",
       "      <td>M110</td>\n",
       "      <td>Maiko</td>\n",
       "      <td>8355</td>\n",
       "      <td>22.8</td>\n",
       "    </tr>\n",
       "  </tbody>\n",
       "</table>\n",
       "</div>"
      ],
      "text/plain": [
       "   sample  owner  concentration  molarity\n",
       "0     M77  Maiko           4694      17.0\n",
       "1     M78  Maiko           4138      16.5\n",
       "5     M82  Maiko          12753      43.2\n",
       "9     M86  Maiko          11715      33.8\n",
       "13   M110  Maiko           8355      22.8"
      ]
     },
     "execution_count": 11,
     "metadata": {},
     "output_type": "execute_result"
    }
   ],
   "source": [
    "#モル濃度があるやつだけを抽出\n",
    "std = df_dil[df_dil['molarity']>0]\n",
    "std.head()"
   ]
  },
  {
   "cell_type": "code",
   "execution_count": 14,
   "metadata": {},
   "outputs": [],
   "source": [
    "#stdから傾きと切片等を求めるために後ろ2行の数を抽出\n",
    "conc = std.ix[:,2].values\n",
    "mol = std.ix[:,3].values"
   ]
  },
  {
   "cell_type": "code",
   "execution_count": 16,
   "metadata": {},
   "outputs": [
    {
     "name": "stdout",
     "output_type": "stream",
     "text": [
      "0.00153424550878 11.610802709 0.91269548305\n"
     ]
    }
   ],
   "source": [
    "#傾き、切片、相関係数取得\n",
    "import scipy as sp\n",
    "from scipy import stats\n",
    "slope, intercept, r_value, p_value, std_err = sp.stats.linregress(conc, mol)\n",
    "print(slope, intercept, r_value)"
   ]
  },
  {
   "cell_type": "code",
   "execution_count": 21,
   "metadata": {},
   "outputs": [
    {
     "data": {
      "text/plain": [
       "0      18.812551\n",
       "1      17.959511\n",
       "2      17.588223\n",
       "3      18.117538\n",
       "4      18.450469\n",
       "5      31.177036\n",
       "6      18.226469\n",
       "7      28.878736\n",
       "8      18.295510\n",
       "9      29.584489\n",
       "10     19.360277\n",
       "11     18.056168\n",
       "12     18.363017\n",
       "13     24.429424\n",
       "14     26.962463\n",
       "15     27.014628\n",
       "16     28.668544\n",
       "17     22.720274\n",
       "18     26.098683\n",
       "19     25.006300\n",
       "20     21.653974\n",
       "21     25.273259\n",
       "22     24.150191\n",
       "23     22.898247\n",
       "24     26.434683\n",
       "25     26.924107\n",
       "26     25.397533\n",
       "27     22.480932\n",
       "28     24.079616\n",
       "29     26.376381\n",
       "         ...    \n",
       "60     31.942624\n",
       "61     31.511501\n",
       "62     24.016712\n",
       "63     20.659783\n",
       "64     19.255948\n",
       "65     19.888057\n",
       "66     34.579992\n",
       "67     24.087287\n",
       "68     21.970028\n",
       "69     20.084441\n",
       "70     21.804330\n",
       "71     26.098683\n",
       "72     28.602572\n",
       "73     23.677644\n",
       "74     19.114797\n",
       "75     25.949861\n",
       "76     24.024383\n",
       "77     25.414410\n",
       "78     23.708329\n",
       "79     31.107995\n",
       "80     74.514869\n",
       "81    103.358684\n",
       "82     73.594321\n",
       "83     95.687457\n",
       "84     99.369646\n",
       "85     84.334040\n",
       "86    107.654572\n",
       "87    107.961421\n",
       "88     15.638197\n",
       "89     24.417150\n",
       "Name: concentration, Length: 90, dtype: float64"
      ]
     },
     "execution_count": 21,
     "metadata": {},
     "output_type": "execute_result"
    }
   ],
   "source": [
    "\n",
    "if df_dil['molarity']=NaN {\n",
    "    df_dil['concentration']*slope+intercept\n",
    "    else\n",
    "    df_dil['molarity']\n",
    "}\n",
    "#df_dil['concentration']*slope+intercept\n",
    "\n"
   ]
  },
  {
   "cell_type": "code",
   "execution_count": null,
   "metadata": {},
   "outputs": [],
   "source": []
  }
 ],
 "metadata": {
  "kernelspec": {
   "display_name": "Python 3",
   "language": "python",
   "name": "python3"
  },
  "language_info": {
   "codemirror_mode": {
    "name": "ipython",
    "version": 3
   },
   "file_extension": ".py",
   "mimetype": "text/x-python",
   "name": "python",
   "nbconvert_exporter": "python",
   "pygments_lexer": "ipython3",
   "version": "3.6.3"
  }
 },
 "nbformat": 4,
 "nbformat_minor": 2
}
